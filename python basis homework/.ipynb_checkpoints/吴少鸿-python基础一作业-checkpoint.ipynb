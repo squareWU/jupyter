{
 "cells": [
  {
   "cell_type": "code",
   "execution_count": 13,
   "metadata": {},
   "outputs": [
    {
     "name": "stdout",
     "output_type": "stream",
     "text": [
      "输入一个整数8\n",
      "能被2整除\n"
     ]
    }
   ],
   "source": [
    "def func1():\n",
    "    num = int(input(\"输入一个整数\"))\n",
    "    if (num%2 == 0) & (num%3 == 0):\n",
    "        print(\"能同时被2和3整除\")\n",
    "    elif num%2 == 0:\n",
    "        print(\"能被2整除\")\n",
    "    elif num%3 == 0:\n",
    "        print(\"能被3整除\")\n",
    "    else:\n",
    "        print(\"不能被2和3整除\")\n",
    "    return\n",
    "\n",
    "func1()"
   ]
  },
  {
   "cell_type": "code",
   "execution_count": 22,
   "metadata": {},
   "outputs": [
    {
     "name": "stdout",
     "output_type": "stream",
     "text": [
      "输入账号asd\n",
      "输入密码sdf\n",
      "登陆失败，请重试\n",
      "输入账号asd\n",
      "输入密码asd\n",
      "登陆失败，请重试\n",
      "输入账号seven\n",
      "输入密码123\n",
      "登陆成功\n"
     ]
    }
   ],
   "source": [
    "def func2():\n",
    "    username = input(\"输入账号\")\n",
    "    password = input(\"输入密码\")\n",
    "    login_failure = 0\n",
    "    while ((username != 'seven') | (password != '123')):\n",
    "        print(\"登陆失败，请重试\")\n",
    "        username = input(\"输入账号\")\n",
    "        password = input(\"输入密码\")\n",
    "        login_failure += 1\n",
    "        if login_failure >= 2:\n",
    "            if ((username == 'seven') & (password == '123')):\n",
    "                print(\"登陆成功\")\n",
    "                return\n",
    "            print(\"错误三次，无法登陆\")\n",
    "            login_failure = 0\n",
    "            return\n",
    "    print(\"登陆成功\")\n",
    "    return\n",
    "\n",
    "func2()"
   ]
  },
  {
   "cell_type": "code",
   "execution_count": 25,
   "metadata": {},
   "outputs": [
    {
     "data": {
      "text/plain": [
       "50"
      ]
     },
     "execution_count": 25,
     "metadata": {},
     "output_type": "execute_result"
    }
   ],
   "source": [
    "def func3():\n",
    "    s = 0\n",
    "    for i in range(1, 100, 2):\n",
    "        s += i\n",
    "    for i in range(2, 100, 2):\n",
    "        s -= i\n",
    "    return s\n",
    "\n",
    "func3()"
   ]
  },
  {
   "cell_type": "code",
   "execution_count": 26,
   "metadata": {},
   "outputs": [
    {
     "name": "stdout",
     "output_type": "stream",
     "text": [
      "1 x 1 = 1  \n",
      "1 x 2 = 2  2 x 2 = 4  \n",
      "1 x 3 = 3  2 x 3 = 6  3 x 3 = 9  \n",
      "1 x 4 = 4  2 x 4 = 8  3 x 4 = 12  4 x 4 = 16  \n",
      "1 x 5 = 5  2 x 5 = 10  3 x 5 = 15  4 x 5 = 20  5 x 5 = 25  \n",
      "1 x 6 = 6  2 x 6 = 12  3 x 6 = 18  4 x 6 = 24  5 x 6 = 30  6 x 6 = 36  \n",
      "1 x 7 = 7  2 x 7 = 14  3 x 7 = 21  4 x 7 = 28  5 x 7 = 35  6 x 7 = 42  7 x 7 = 49  \n",
      "1 x 8 = 8  2 x 8 = 16  3 x 8 = 24  4 x 8 = 32  5 x 8 = 40  6 x 8 = 48  7 x 8 = 56  8 x 8 = 64  \n",
      "1 x 9 = 9  2 x 9 = 18  3 x 9 = 27  4 x 9 = 36  5 x 9 = 45  6 x 9 = 54  7 x 9 = 63  8 x 9 = 72  9 x 9 = 81  \n"
     ]
    }
   ],
   "source": [
    "def func4():\n",
    "    for i in range(1, 10):\n",
    "        for j in range(1, i+1):\n",
    "            print(j, 'x', i, '=', i*j, ' ', end='')\n",
    "        print()\n",
    "    return\n",
    "\n",
    "func4()"
   ]
  },
  {
   "cell_type": "code",
   "execution_count": 3,
   "metadata": {},
   "outputs": [
    {
     "name": "stdout",
     "output_type": "stream",
     "text": [
      "{'413', '432', '214', '123', '421', '241', '132', '342', '431', '341', '243', '134', '142', '143', '312', '314', '213', '124', '412', '423', '321', '231', '234', '324'}\n"
     ]
    },
    {
     "data": {
      "text/plain": [
       "24"
      ]
     },
     "execution_count": 3,
     "metadata": {},
     "output_type": "execute_result"
    }
   ],
   "source": [
    "def func5():\n",
    "    num = ['1', '2', '3', '4']\n",
    "    len_num = len(num)\n",
    "    all_nums = set()\n",
    "    for i in range(len_num):\n",
    "        for j in range(len_num):\n",
    "            for k in range(len_num):\n",
    "                s = ''\n",
    "                if (i != j) & (i != k) & (j != k):\n",
    "                    s = s+num[i]+num[j]+num[k]\n",
    "                    all_nums.add(s)\n",
    "    print(all_nums)\n",
    "    return len(all_nums)\n",
    "\n",
    "func5()\n",
    "                    "
   ]
  },
  {
   "cell_type": "code",
   "execution_count": 8,
   "metadata": {},
   "outputs": [
    {
     "data": {
      "text/plain": [
       "[2,\n",
       " 3,\n",
       " 5,\n",
       " 7,\n",
       " 11,\n",
       " 13,\n",
       " 17,\n",
       " 19,\n",
       " 23,\n",
       " 29,\n",
       " 31,\n",
       " 37,\n",
       " 41,\n",
       " 43,\n",
       " 47,\n",
       " 53,\n",
       " 59,\n",
       " 61,\n",
       " 67,\n",
       " 71,\n",
       " 73,\n",
       " 79,\n",
       " 83,\n",
       " 89,\n",
       " 97]"
      ]
     },
     "execution_count": 8,
     "metadata": {},
     "output_type": "execute_result"
    }
   ],
   "source": [
    "def func6():\n",
    "    num_list = []\n",
    "    for i in range(1, 101):\n",
    "        for j in range(1, i):\n",
    "            if (i%j == 0) & (j != 1) & (j != i):\n",
    "                break\n",
    "            if j == i-1:\n",
    "                num_list.append(i)\n",
    "    return num_list\n",
    "\n",
    "func6()"
   ]
  },
  {
   "cell_type": "code",
   "execution_count": 10,
   "metadata": {},
   "outputs": [
    {
     "data": {
      "text/plain": [
       "[101, 111, 121, 131, 141, 151, 161, 171, 181, 191]"
      ]
     },
     "execution_count": 10,
     "metadata": {},
     "output_type": "execute_result"
    }
   ],
   "source": [
    "def func7():\n",
    "    palindrome_list = []\n",
    "    for i in range(100,1000):\n",
    "        num_str = str(i)\n",
    "        if num_str[0] == num_str[2]:\n",
    "            palindrome_list.append(i)\n",
    "        if len(palindrome_list) >= 10:\n",
    "            break\n",
    "    return palindrome_list\n",
    "\n",
    "func7()"
   ]
  },
  {
   "cell_type": "code",
   "execution_count": 16,
   "metadata": {},
   "outputs": [
    {
     "data": {
      "text/plain": [
       "'A'"
      ]
     },
     "execution_count": 16,
     "metadata": {},
     "output_type": "execute_result"
    }
   ],
   "source": [
    "def func8(score):\n",
    "    if (score >= 90) & (score <= 100):\n",
    "        return 'A'\n",
    "    elif (score >= 60) & (score < 90):\n",
    "        return 'B'\n",
    "    elif (score >= 0) & (score < 60):\n",
    "        return 'C'\n",
    "    else:\n",
    "        return \"ERROR\"\n",
    "\n",
    "func8(98)"
   ]
  },
  {
   "cell_type": "code",
   "execution_count": 17,
   "metadata": {},
   "outputs": [
    {
     "name": "stdout",
     "output_type": "stream",
     "text": [
      "153\n",
      "370\n",
      "371\n",
      "407\n"
     ]
    }
   ],
   "source": [
    "def func9():\n",
    "    for i in range(100, 1000):\n",
    "        num_str = str(i)\n",
    "        if (int(num_str[0])**3+int(num_str[1])**3+int(num_str[2])**3 == i):\n",
    "            print(i)\n",
    "    return\n",
    "\n",
    "func9()"
   ]
  },
  {
   "cell_type": "code",
   "execution_count": 23,
   "metadata": {},
   "outputs": [
    {
     "name": "stdout",
     "output_type": "stream",
     "text": [
      "第一个数asd\n",
      "第二个数152344\n",
      "第三个数12\n",
      "ERROR：请输入数字\n"
     ]
    }
   ],
   "source": [
    "def func10():\n",
    "    a = input(\"第一个数\")\n",
    "    b = input(\"第二个数\")\n",
    "    c = input(\"第三个数\")\n",
    "    list1 = []\n",
    "    try:\n",
    "        list1.append(int(a))\n",
    "        list1.append(int(b))\n",
    "        list1.append(int(c))\n",
    "    except ValueError:\n",
    "        print(\"ERROR：请输入数字\")\n",
    "        return\n",
    "    list1.sort()\n",
    "    return list1\n",
    "\n",
    "func10()"
   ]
  },
  {
   "cell_type": "code",
   "execution_count": null,
   "metadata": {},
   "outputs": [],
   "source": []
  }
 ],
 "metadata": {
  "kernelspec": {
   "display_name": "Python 3",
   "language": "python",
   "name": "python3"
  },
  "language_info": {
   "codemirror_mode": {
    "name": "ipython",
    "version": 3
   },
   "file_extension": ".py",
   "mimetype": "text/x-python",
   "name": "python",
   "nbconvert_exporter": "python",
   "pygments_lexer": "ipython3",
   "version": "3.7.3"
  }
 },
 "nbformat": 4,
 "nbformat_minor": 2
}
